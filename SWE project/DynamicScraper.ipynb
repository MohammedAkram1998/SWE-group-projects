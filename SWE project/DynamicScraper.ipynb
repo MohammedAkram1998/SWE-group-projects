{
 "cells": [
  {
   "cell_type": "code",
   "execution_count": 33,
   "outputs": [],
   "source": [
    "#!/home/ubuntu/miniconda3/envs/comp30830"
   ],
   "metadata": {
    "collapsed": false,
    "ExecuteTime": {
     "start_time": "2023-04-06T13:08:08.677917Z",
     "end_time": "2023-04-06T13:08:08.808119Z"
    }
   }
  },
  {
   "cell_type": "code",
   "execution_count": 34,
   "metadata": {
    "collapsed": true,
    "ExecuteTime": {
     "start_time": "2023-04-06T13:08:08.712841Z",
     "end_time": "2023-04-06T13:08:08.808119Z"
    }
   },
   "outputs": [],
   "source": [
    "import requests\n",
    "import json\n",
    "import time\n",
    "import threading\n",
    "import mysql.connector\n",
    "import sys"
   ]
  },
  {
   "cell_type": "code",
   "execution_count": 35,
   "outputs": [],
   "source": [
    "# Setting up the database connection\n",
    "try:\n",
    "    dbbikes = mysql.connector.connect(host=\"dbbikes.cvwut6jnqsvn.us-east-1.rds.amazonaws.com\", user=\"admin\", passwd=\"password\", database=\"dbbikes\")\n",
    "\n",
    "except mysql.connector.Error as error:\n",
    "    print(\"Unable to connect to database: {}\".format(error))\n",
    "    sys.exit(1)\n"
   ],
   "metadata": {
    "collapsed": false,
    "ExecuteTime": {
     "start_time": "2023-04-06T13:08:08.747127Z",
     "end_time": "2023-04-06T13:08:09.457832Z"
    }
   }
  },
  {
   "cell_type": "code",
   "execution_count": 36,
   "outputs": [],
   "source": [
    "# connecting to get the bike data from the jcdecaux API\n",
    "api_endpoint = \"https://api.jcdecaux.com/vls/v1/stations\"\n",
    "params = {\n",
    "    \"contract\": \"dublin\",\n",
    "    \"apiKey\": \"e58b454e0c21037a669b05e177dd6d3e910eb9fb\"\n",
    "}\n",
    "try:\n",
    "    bike_response = requests.get(api_endpoint,params=params).json()\n",
    "\n",
    "except requests.exceptions.RequestException as e:\n",
    "    print(e)\n",
    "    sys.exit(1)\n"
   ],
   "metadata": {
    "collapsed": false,
    "ExecuteTime": {
     "start_time": "2023-04-06T13:08:09.476238Z",
     "end_time": "2023-04-06T13:08:09.688673Z"
    }
   }
  },
  {
   "cell_type": "code",
   "execution_count": 37,
   "outputs": [],
   "source": [
    "# weather\n",
    "weatherApiKey = \"8989835a2bce4268768202b1dd2b056b\"\n",
    "weather_ID = \"2964574\"\n",
    "weather_url = f\"https://api.openweathermap.org/data/2.5/weather?id={weather_ID}&appid={weatherApiKey}\"\n",
    "try:\n",
    "    weather_request = requests.get(weather_url)\n",
    "    weather_response = weather_request.json()\n",
    "\n",
    "except requests.exceptions.RequestException as e:\n",
    "    print(e)\n",
    "    sys.exit(1)"
   ],
   "metadata": {
    "collapsed": false,
    "ExecuteTime": {
     "start_time": "2023-04-06T13:08:09.695085Z",
     "end_time": "2023-04-06T13:08:09.894300Z"
    }
   }
  },
  {
   "cell_type": "code",
   "execution_count": 38,
   "outputs": [],
   "source": [
    "# Create MYsql Table\n",
    "sql_cursor = dbbikes.cursor()\n",
    "# sql_cursor.execute(\"DROP TABLE IF EXISTS Bike\")\n",
    "sql_cursor.execute('''CREATE TABLE IF NOT EXISTS Bike (\n",
    "    number INT,\n",
    "    contract_name VARCHAR(255),\n",
    "    name VARCHAR(255),\n",
    "    bike_stands INT,\n",
    "    available_bike_stands INT,\n",
    "    available_bikes INT,\n",
    "    status VARCHAR(255),\n",
    "    last_update TIMESTAMP,\n",
    "    PRIMARY KEY (number, last_update)\n",
    ")''')\n",
    "sql_cursor.execute(\"CREATE TABLE IF NOT EXISTS Weather (coord_lon VARCHAR(255), coord_lat VARCHAR(255), weather_id VARCHAR(255), weather_main VARCHAR(255), weather_description VARCHAR(255),weather_icon VARCHAR(255), weather_base VARCHAR(255) ,main_temp VARCHAR(255),feels_like VARCHAR(255), main_temp_min VARCHAR(255), main_temp_max VARCHAR(255), main_pressure VARCHAR(255), main_humidity VARCHAR(255), main_visibility VARCHAR(255),wind_speed VARCHAR(255), wind_deg VARCHAR(255),  clouds_all VARCHAR(255), last_update VARCHAR(255), sys_type VARCHAR(255), sys_id VARCHAR(255), sys_country VARCHAR(255),sys_sunrise VARCHAR(255), sys_sunset VARCHAR(255), city_id VARCHAR(255), city_name VARCHAR(255), cod VARCHAR(255))\")\n"
   ],
   "metadata": {
    "collapsed": false,
    "ExecuteTime": {
     "start_time": "2023-04-06T13:08:09.903495Z",
     "end_time": "2023-04-06T13:08:10.204152Z"
    }
   }
  },
  {
   "cell_type": "code",
   "execution_count": 39,
   "outputs": [],
   "source": [
    "# Create Tables Queries for inserting data\n",
    "bike_table = \"INSERT IGNORE INTO Bike(number, contract_name, name, bike_stands, available_bike_stands, \" \\\n",
    "             \"available_bikes, status, last_update) \" \\\n",
    "             \"VALUES (%s, %s, %s, %s, %s, %s, %s, %s)\"\n",
    "\n",
    "weather_table = \"INSERT INTO Weather (coord_lon,coord_lat,weather_id,weather_main,weather_description, \" \\\n",
    "                \"weather_icon, weather_base , main_temp, feels_like , main_temp_min, main_temp_max, main_pressure, main_humidity, main_visibility, \" \\\n",
    "                \"wind_speed,clouds_all, last_update, sys_type, sys_id, sys_country, \" \\\n",
    "                \"sys_sunrise, sys_sunset,city_id,city_name,cod) \" \\\n",
    "                \"VALUES (%s, %s, %s, %s, %s, %s, %s, %s, %s, %s, %s, %s, %s, %s, %s, %s, %s, %s, %s, %s, %s, %s, %s,%s,%s)\""
   ],
   "metadata": {
    "collapsed": false,
    "ExecuteTime": {
     "start_time": "2023-04-06T13:08:10.209428Z",
     "end_time": "2023-04-06T13:08:10.250133Z"
    }
   }
  },
  {
   "cell_type": "code",
   "execution_count": 40,
   "outputs": [],
   "source": [
    "try:\n",
    "    sql_cursor = dbbikes.cursor()\n",
    "\n",
    "    # Iterate through the data response object and perform inserts\n",
    "    for i in range(len(bike_response)):\n",
    "        Bike_data = (bike_response[i][\"number\"], bike_response[i][\"contract_name\"], bike_response[i][\"name\"],\n",
    "                     bike_response[i][\"bike_stands\"], bike_response[i][\"available_bike_stands\"],\n",
    "                     bike_response[i][\"available_bikes\"], bike_response[i][\"status\"],\n",
    "                     time.strftime('%Y-%m-%d %H:%M:%S', time.localtime(bike_response[i][\"last_update\"] / 1000)))\n",
    "        sql_cursor.execute(bike_table, Bike_data)\n",
    "\n",
    "    Weather_data =(weather_response['coord']['lon'], weather_response['coord']['lat'], weather_response['weather'][0]['id'],\n",
    "                   weather_response['weather'][0]['main'], weather_response['weather'][0]['description'],\n",
    "                   weather_response['weather'][0]['icon'],\n",
    "                   weather_response['base'], weather_response['main']['temp'], weather_response['main']['feels_like'],\n",
    "                   weather_response['main']['temp_min'], weather_response['main']['temp_max'], weather_response['main']['pressure'],\n",
    "                   weather_response['main']['humidity'], weather_response['visibility'], weather_response['wind']['speed'],\n",
    "                   weather_response['clouds']['all'], time.strftime('%Y-%m-%d %H:%M:%S', time.localtime(weather_response['dt'])), weather_response['sys']['type'],\n",
    "                   weather_response['sys']['id'], weather_response['sys']['country'], time.strftime('%Y-%m-%d %H:%M:%S', time.localtime(weather_response['sys']['sunrise'])),\n",
    "                   time.strftime('%Y-%m-%d %H:%M:%S', time.localtime(weather_response['sys']['sunset'])), weather_response['id'], weather_response['name'], weather_response['cod'])\n",
    "\n",
    "    sql_cursor.execute(weather_table, Weather_data)\n",
    "\n",
    "    dbbikes.commit()\n",
    "\n",
    "    # Close the connection\n",
    "    dbbikes.close()\n",
    "except mysql.connector.Error as error:\n",
    "    print(\"Connection to the database failed: {}\".format(error))\n",
    "    sys.exit(1)\n"
   ],
   "metadata": {
    "collapsed": false,
    "ExecuteTime": {
     "start_time": "2023-04-06T13:08:10.265312Z",
     "end_time": "2023-04-06T13:08:20.962469Z"
    }
   }
  }
 ],
 "metadata": {
  "kernelspec": {
   "display_name": "Python 3",
   "language": "python",
   "name": "python3"
  },
  "language_info": {
   "codemirror_mode": {
    "name": "ipython",
    "version": 2
   },
   "file_extension": ".py",
   "mimetype": "text/x-python",
   "name": "python",
   "nbconvert_exporter": "python",
   "pygments_lexer": "ipython2",
   "version": "2.7.6"
  }
 },
 "nbformat": 4,
 "nbformat_minor": 0
}
