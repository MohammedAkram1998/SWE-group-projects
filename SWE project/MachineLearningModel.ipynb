{
 "cells": [
  {
   "cell_type": "code",
   "execution_count": 1,
   "metadata": {
    "collapsed": true,
    "ExecuteTime": {
     "start_time": "2023-04-16T16:11:51.533011Z",
     "end_time": "2023-04-16T16:11:54.059068Z"
    }
   },
   "outputs": [],
   "source": [
    "# Import necessary dependencies\n",
    "import pandas as pd\n",
    "from sqlalchemy import create_engine\n",
    "from sklearn import metrics\n",
    "import pickle\n",
    "import numpy as np\n",
    "from sklearn import metrics\n",
    "from sklearn.ensemble import RandomForestRegressor\n",
    "from sklearn.model_selection import train_test_split\n",
    "\n",
    "from sklearn.linear_model import LinearRegression"
   ]
  },
  {
   "cell_type": "code",
   "execution_count": 2,
   "outputs": [],
   "source": [
    "URL = \"dbbikes.cvwut6jnqsvn.us-east-1.rds.amazonaws.com\"\n",
    "PORT = \"3306\"\n",
    "DB = \"dbbikes\"\n",
    "USER = \"admin\"\n",
    "PASSWORD = \"password\""
   ],
   "metadata": {
    "collapsed": false,
    "ExecuteTime": {
     "start_time": "2023-04-16T16:11:54.059068Z",
     "end_time": "2023-04-16T16:11:54.072034Z"
    }
   }
  },
  {
   "cell_type": "code",
   "execution_count": 3,
   "outputs": [],
   "source": [
    "engine = create_engine(f\"mysql+pymysql://{USER}:{PASSWORD}@{URL}:{PORT}/{DB}\",echo = True)\n",
    "\n"
   ],
   "metadata": {
    "collapsed": false,
    "ExecuteTime": {
     "start_time": "2023-04-16T16:11:54.075031Z",
     "end_time": "2023-04-16T16:11:54.201850Z"
    }
   }
  },
  {
   "cell_type": "markdown",
   "source": [
    "# Weather Data Preparation\n",
    "___"
   ],
   "metadata": {
    "collapsed": false
   }
  },
  {
   "cell_type": "code",
   "execution_count": 4,
   "outputs": [
    {
     "name": "stdout",
     "output_type": "stream",
     "text": [
      "2023-04-16 16:11:54,798 INFO sqlalchemy.engine.Engine SELECT DATABASE()\n",
      "2023-04-16 16:11:54,800 INFO sqlalchemy.engine.Engine [raw sql] {}\n",
      "2023-04-16 16:11:54,981 INFO sqlalchemy.engine.Engine SELECT @@sql_mode\n",
      "2023-04-16 16:11:54,981 INFO sqlalchemy.engine.Engine [raw sql] {}\n",
      "2023-04-16 16:11:55,073 INFO sqlalchemy.engine.Engine SELECT @@lower_case_table_names\n",
      "2023-04-16 16:11:55,074 INFO sqlalchemy.engine.Engine [raw sql] {}\n",
      "2023-04-16 16:11:55,256 INFO sqlalchemy.engine.Engine SELECT * FROM dbbikes.Weather;\n",
      "2023-04-16 16:11:55,257 INFO sqlalchemy.engine.Engine [raw sql] {}\n"
     ]
    }
   ],
   "source": [
    "# create dataframe of weatherData\n",
    "query = \"SELECT * FROM dbbikes.Weather;\"\n",
    "dfWeather = pd.read_sql_query(query, engine)\n",
    "dfWeather[\"last_update\"] = pd.to_datetime(dfWeather.last_update) #change last_update feature to datetime type"
   ],
   "metadata": {
    "collapsed": false,
    "ExecuteTime": {
     "start_time": "2023-04-16T16:11:54.196864Z",
     "end_time": "2023-04-16T16:11:55.959087Z"
    }
   }
  },
  {
   "cell_type": "code",
   "execution_count": 5,
   "outputs": [
    {
     "data": {
      "text/plain": "     coord_lon coord_lat weather_id weather_main weather_description  \\\n3011   -6.2672    53.344        802       Clouds    scattered clouds   \n3012   -6.2672    53.344        802       Clouds    scattered clouds   \n3013   -6.2672    53.344        802       Clouds    scattered clouds   \n3014   -6.2672    53.344        802       Clouds    scattered clouds   \n3015   -6.2672    53.344        802       Clouds    scattered clouds   \n\n     weather_icon weather_base main_temp feels_like main_temp_min  ...  \\\n3011          03d     stations    290.77     290.57        290.31  ...   \n3012          03d     stations    290.77     290.57        290.31  ...   \n3013          03d     stations    290.77     290.57        290.31  ...   \n3014          03d     stations    290.77     290.57        290.31  ...   \n3015          03d     stations    289.82      289.4        289.82  ...   \n\n     clouds_all         last_update sys_type   sys_id sys_country  \\\n3011         40 2023-04-16 15:50:00        2  2031847          IE   \n3012         40 2023-04-16 15:50:00        2  2031847          IE   \n3013         40 2023-04-16 15:50:00        2  2031847          IE   \n3014         40 2023-04-16 16:00:03        2  2031847          IE   \n3015         40 2023-04-16 16:09:29        2  2037117          IE   \n\n              sys_sunrise           sys_sunset  city_id city_name  cod  \n3011  2023-04-16 06:23:58  2023-04-16 20:25:30  2964574    Dublin  200  \n3012  2023-04-16 06:23:58  2023-04-16 20:25:30  2964574    Dublin  200  \n3013  2023-04-16 06:23:58  2023-04-16 20:25:30  2964574    Dublin  200  \n3014  2023-04-16 06:23:58  2023-04-16 20:25:30  2964574    Dublin  200  \n3015  2023-04-16 06:23:58  2023-04-16 20:25:30  2964574    Dublin  200  \n\n[5 rows x 26 columns]",
      "text/html": "<div>\n<style scoped>\n    .dataframe tbody tr th:only-of-type {\n        vertical-align: middle;\n    }\n\n    .dataframe tbody tr th {\n        vertical-align: top;\n    }\n\n    .dataframe thead th {\n        text-align: right;\n    }\n</style>\n<table border=\"1\" class=\"dataframe\">\n  <thead>\n    <tr style=\"text-align: right;\">\n      <th></th>\n      <th>coord_lon</th>\n      <th>coord_lat</th>\n      <th>weather_id</th>\n      <th>weather_main</th>\n      <th>weather_description</th>\n      <th>weather_icon</th>\n      <th>weather_base</th>\n      <th>main_temp</th>\n      <th>feels_like</th>\n      <th>main_temp_min</th>\n      <th>...</th>\n      <th>clouds_all</th>\n      <th>last_update</th>\n      <th>sys_type</th>\n      <th>sys_id</th>\n      <th>sys_country</th>\n      <th>sys_sunrise</th>\n      <th>sys_sunset</th>\n      <th>city_id</th>\n      <th>city_name</th>\n      <th>cod</th>\n    </tr>\n  </thead>\n  <tbody>\n    <tr>\n      <th>3011</th>\n      <td>-6.2672</td>\n      <td>53.344</td>\n      <td>802</td>\n      <td>Clouds</td>\n      <td>scattered clouds</td>\n      <td>03d</td>\n      <td>stations</td>\n      <td>290.77</td>\n      <td>290.57</td>\n      <td>290.31</td>\n      <td>...</td>\n      <td>40</td>\n      <td>2023-04-16 15:50:00</td>\n      <td>2</td>\n      <td>2031847</td>\n      <td>IE</td>\n      <td>2023-04-16 06:23:58</td>\n      <td>2023-04-16 20:25:30</td>\n      <td>2964574</td>\n      <td>Dublin</td>\n      <td>200</td>\n    </tr>\n    <tr>\n      <th>3012</th>\n      <td>-6.2672</td>\n      <td>53.344</td>\n      <td>802</td>\n      <td>Clouds</td>\n      <td>scattered clouds</td>\n      <td>03d</td>\n      <td>stations</td>\n      <td>290.77</td>\n      <td>290.57</td>\n      <td>290.31</td>\n      <td>...</td>\n      <td>40</td>\n      <td>2023-04-16 15:50:00</td>\n      <td>2</td>\n      <td>2031847</td>\n      <td>IE</td>\n      <td>2023-04-16 06:23:58</td>\n      <td>2023-04-16 20:25:30</td>\n      <td>2964574</td>\n      <td>Dublin</td>\n      <td>200</td>\n    </tr>\n    <tr>\n      <th>3013</th>\n      <td>-6.2672</td>\n      <td>53.344</td>\n      <td>802</td>\n      <td>Clouds</td>\n      <td>scattered clouds</td>\n      <td>03d</td>\n      <td>stations</td>\n      <td>290.77</td>\n      <td>290.57</td>\n      <td>290.31</td>\n      <td>...</td>\n      <td>40</td>\n      <td>2023-04-16 15:50:00</td>\n      <td>2</td>\n      <td>2031847</td>\n      <td>IE</td>\n      <td>2023-04-16 06:23:58</td>\n      <td>2023-04-16 20:25:30</td>\n      <td>2964574</td>\n      <td>Dublin</td>\n      <td>200</td>\n    </tr>\n    <tr>\n      <th>3014</th>\n      <td>-6.2672</td>\n      <td>53.344</td>\n      <td>802</td>\n      <td>Clouds</td>\n      <td>scattered clouds</td>\n      <td>03d</td>\n      <td>stations</td>\n      <td>290.77</td>\n      <td>290.57</td>\n      <td>290.31</td>\n      <td>...</td>\n      <td>40</td>\n      <td>2023-04-16 16:00:03</td>\n      <td>2</td>\n      <td>2031847</td>\n      <td>IE</td>\n      <td>2023-04-16 06:23:58</td>\n      <td>2023-04-16 20:25:30</td>\n      <td>2964574</td>\n      <td>Dublin</td>\n      <td>200</td>\n    </tr>\n    <tr>\n      <th>3015</th>\n      <td>-6.2672</td>\n      <td>53.344</td>\n      <td>802</td>\n      <td>Clouds</td>\n      <td>scattered clouds</td>\n      <td>03d</td>\n      <td>stations</td>\n      <td>289.82</td>\n      <td>289.4</td>\n      <td>289.82</td>\n      <td>...</td>\n      <td>40</td>\n      <td>2023-04-16 16:09:29</td>\n      <td>2</td>\n      <td>2037117</td>\n      <td>IE</td>\n      <td>2023-04-16 06:23:58</td>\n      <td>2023-04-16 20:25:30</td>\n      <td>2964574</td>\n      <td>Dublin</td>\n      <td>200</td>\n    </tr>\n  </tbody>\n</table>\n<p>5 rows × 26 columns</p>\n</div>"
     },
     "execution_count": 5,
     "metadata": {},
     "output_type": "execute_result"
    }
   ],
   "source": [
    "dfWeather.tail()"
   ],
   "metadata": {
    "collapsed": false,
    "ExecuteTime": {
     "start_time": "2023-04-16T16:11:55.966047Z",
     "end_time": "2023-04-16T16:11:56.010468Z"
    }
   }
  },
  {
   "cell_type": "code",
   "execution_count": 6,
   "outputs": [],
   "source": [
    "# Select categorical columns\n",
    "categorical_columns = dfWeather[['weather_main', 'weather_description', 'weather_icon', 'weather_base']].columns\n",
    "\n",
    "# Convert data type to category for these columns\n",
    "for column in categorical_columns:\n",
    "    dfWeather[column] = dfWeather[column].astype('object')"
   ],
   "metadata": {
    "collapsed": false,
    "ExecuteTime": {
     "start_time": "2023-04-16T16:11:55.997503Z",
     "end_time": "2023-04-16T16:11:56.049209Z"
    }
   }
  },
  {
   "cell_type": "code",
   "execution_count": 7,
   "outputs": [],
   "source": [
    "# Select columns that should be floats\n",
    "float_columns = dfWeather[['coord_lon', 'coord_lat', 'main_temp', 'feels_like',\"main_temp_min\",\"wind_speed\",\n",
    "                    \"main_temp_max\",]].columns\n",
    "# Convert data type to floats\n",
    "for column in float_columns:\n",
    "    dfWeather[column] = dfWeather[column].astype('float64')\n",
    "\n",
    "# Select data types that should be integers\n",
    "int_columns=dfWeather[['weather_id', 'main_pressure', 'main_humidity', 'main_visibility',\"clouds_all\",]].columns\n",
    "\n",
    "for column in int_columns:\n",
    "    dfWeather[column] = dfWeather[column].astype('int64')\n"
   ],
   "metadata": {
    "collapsed": false,
    "ExecuteTime": {
     "start_time": "2023-04-16T16:11:56.008473Z",
     "end_time": "2023-04-16T16:11:56.134094Z"
    }
   }
  },
  {
   "cell_type": "code",
   "execution_count": 8,
   "outputs": [],
   "source": [
    "# Select only important Weather features\n",
    "dfWeather = dfWeather[[\"weather_description\",\"main_temp\",\"main_humidity\",'wind_speed',\"last_update\"]]"
   ],
   "metadata": {
    "collapsed": false,
    "ExecuteTime": {
     "start_time": "2023-04-16T16:11:56.040958Z",
     "end_time": "2023-04-16T16:11:56.168757Z"
    }
   }
  },
  {
   "cell_type": "code",
   "execution_count": 9,
   "outputs": [],
   "source": [
    "dfWeather.sort_values('last_update', inplace = True)"
   ],
   "metadata": {
    "collapsed": false,
    "ExecuteTime": {
     "start_time": "2023-04-16T16:11:56.052201Z",
     "end_time": "2023-04-16T16:11:56.168757Z"
    }
   }
  },
  {
   "cell_type": "markdown",
   "source": [
    "# Bikes Data Preparation\n",
    "___"
   ],
   "metadata": {
    "collapsed": false
   }
  },
  {
   "cell_type": "code",
   "execution_count": 10,
   "outputs": [
    {
     "name": "stdout",
     "output_type": "stream",
     "text": [
      "2023-04-16 16:11:56,069 INFO sqlalchemy.engine.Engine SELECT * FROM dbbikes.Bike;\n",
      "2023-04-16 16:11:56,071 INFO sqlalchemy.engine.Engine [raw sql] {}\n"
     ]
    }
   ],
   "source": [
    "query = \"SELECT * FROM dbbikes.Bike;\"\n",
    "dfBikes = pd.read_sql_query(query,engine)\n",
    "dfBikes[\"last_update\"] = pd.to_datetime(dfBikes.last_update)\n",
    "# Select continuous values and change to appropriate type\n",
    "dfBikes.sort_values('last_update', inplace = True)"
   ],
   "metadata": {
    "collapsed": false,
    "ExecuteTime": {
     "start_time": "2023-04-16T16:11:56.070009Z",
     "end_time": "2023-04-16T16:12:01.786764Z"
    }
   }
  },
  {
   "cell_type": "code",
   "execution_count": 11,
   "outputs": [
    {
     "data": {
      "text/plain": "number                            int64\ncontract_name                    object\nname                             object\nbike_stands                       int64\navailable_bike_stands             int64\navailable_bikes                   int64\nstatus                           object\nlast_update              datetime64[ns]\ndtype: object"
     },
     "execution_count": 11,
     "metadata": {},
     "output_type": "execute_result"
    }
   ],
   "source": [
    "dfBikes.dtypes"
   ],
   "metadata": {
    "collapsed": false,
    "ExecuteTime": {
     "start_time": "2023-04-16T16:12:01.789757Z",
     "end_time": "2023-04-16T16:12:01.802725Z"
    }
   }
  },
  {
   "cell_type": "markdown",
   "source": [
    "#Merging the two Dataframes\n",
    "___"
   ],
   "metadata": {
    "collapsed": false
   }
  },
  {
   "cell_type": "code",
   "execution_count": 12,
   "outputs": [],
   "source": [
    "dfMerged = pd.merge_asof(dfBikes,dfWeather,on=\"last_update\",direction=\"nearest\")"
   ],
   "metadata": {
    "collapsed": false,
    "ExecuteTime": {
     "start_time": "2023-04-16T16:12:01.806805Z",
     "end_time": "2023-04-16T16:12:01.896635Z"
    }
   }
  },
  {
   "cell_type": "code",
   "execution_count": 13,
   "outputs": [],
   "source": [
    "df = dfMerged.drop([\"contract_name\",\"name\",\"status\"],axis=1)"
   ],
   "metadata": {
    "collapsed": false,
    "ExecuteTime": {
     "start_time": "2023-04-16T16:12:01.898595Z",
     "end_time": "2023-04-16T16:12:01.912136Z"
    }
   }
  },
  {
   "cell_type": "code",
   "execution_count": 14,
   "outputs": [],
   "source": [
    "df['month'] = df['last_update'].dt.month\n",
    "df['dayofweek'] = df['last_update'].dt.dayofweek\n",
    "df['hour'] = df['last_update'].dt.hour\n",
    "df['minute'] = df['last_update'].dt.minute"
   ],
   "metadata": {
    "collapsed": false,
    "ExecuteTime": {
     "start_time": "2023-04-16T16:12:01.918120Z",
     "end_time": "2023-04-16T16:12:01.988931Z"
    }
   }
  },
  {
   "cell_type": "code",
   "execution_count": 15,
   "outputs": [
    {
     "data": {
      "text/plain": "number                            int64\nbike_stands                       int64\navailable_bike_stands             int64\navailable_bikes                   int64\nlast_update              datetime64[ns]\nweather_description              object\nmain_temp                       float64\nmain_humidity                     int64\nwind_speed                      float64\nmonth                             int64\ndayofweek                         int64\nhour                              int64\nminute                            int64\ndtype: object"
     },
     "execution_count": 15,
     "metadata": {},
     "output_type": "execute_result"
    }
   ],
   "source": [
    "df.dtypes\n"
   ],
   "metadata": {
    "collapsed": false,
    "ExecuteTime": {
     "start_time": "2023-04-16T16:12:01.992923Z",
     "end_time": "2023-04-16T16:12:02.003924Z"
    }
   }
  },
  {
   "cell_type": "code",
   "execution_count": 16,
   "outputs": [
    {
     "data": {
      "text/plain": "        number  bike_stands  available_bike_stands  available_bikes  \\\n226273      50           40                     14               26   \n226274      27           20                      9               11   \n226275     108           35                     26                9   \n226276     101           30                     27                3   \n226277     107           40                     40                0   \n...        ...          ...                    ...              ...   \n227268      82           22                     16                6   \n227269      26           20                     12                8   \n227270       9           24                      0               24   \n227271      86           38                     22               16   \n227272      44           30                     29                1   \n\n               last_update weather_description  main_temp  main_humidity  \\\n226273 2023-04-16 15:04:31          light rain     290.42             73   \n226274 2023-04-16 15:04:33          light rain     290.42             73   \n226275 2023-04-16 15:04:34          light rain     290.42             73   \n226276 2023-04-16 15:04:34          light rain     290.42             73   \n226277 2023-04-16 15:04:38          light rain     290.42             73   \n...                    ...                 ...        ...            ...   \n227268 2023-04-16 16:09:39    scattered clouds     289.82             71   \n227269 2023-04-16 16:09:43    scattered clouds     289.82             71   \n227270 2023-04-16 16:09:49    scattered clouds     289.82             71   \n227271 2023-04-16 16:09:51    scattered clouds     289.82             71   \n227272 2023-04-16 16:09:52    scattered clouds     289.82             71   \n\n        wind_speed  month  dayofweek  hour  minute  \n226273        4.12      4          6    15       4  \n226274        4.12      4          6    15       4  \n226275        4.12      4          6    15       4  \n226276        4.12      4          6    15       4  \n226277        4.12      4          6    15       4  \n...            ...    ...        ...   ...     ...  \n227268        4.63      4          6    16       9  \n227269        4.63      4          6    16       9  \n227270        4.63      4          6    16       9  \n227271        4.63      4          6    16       9  \n227272        4.63      4          6    16       9  \n\n[1000 rows x 13 columns]",
      "text/html": "<div>\n<style scoped>\n    .dataframe tbody tr th:only-of-type {\n        vertical-align: middle;\n    }\n\n    .dataframe tbody tr th {\n        vertical-align: top;\n    }\n\n    .dataframe thead th {\n        text-align: right;\n    }\n</style>\n<table border=\"1\" class=\"dataframe\">\n  <thead>\n    <tr style=\"text-align: right;\">\n      <th></th>\n      <th>number</th>\n      <th>bike_stands</th>\n      <th>available_bike_stands</th>\n      <th>available_bikes</th>\n      <th>last_update</th>\n      <th>weather_description</th>\n      <th>main_temp</th>\n      <th>main_humidity</th>\n      <th>wind_speed</th>\n      <th>month</th>\n      <th>dayofweek</th>\n      <th>hour</th>\n      <th>minute</th>\n    </tr>\n  </thead>\n  <tbody>\n    <tr>\n      <th>226273</th>\n      <td>50</td>\n      <td>40</td>\n      <td>14</td>\n      <td>26</td>\n      <td>2023-04-16 15:04:31</td>\n      <td>light rain</td>\n      <td>290.42</td>\n      <td>73</td>\n      <td>4.12</td>\n      <td>4</td>\n      <td>6</td>\n      <td>15</td>\n      <td>4</td>\n    </tr>\n    <tr>\n      <th>226274</th>\n      <td>27</td>\n      <td>20</td>\n      <td>9</td>\n      <td>11</td>\n      <td>2023-04-16 15:04:33</td>\n      <td>light rain</td>\n      <td>290.42</td>\n      <td>73</td>\n      <td>4.12</td>\n      <td>4</td>\n      <td>6</td>\n      <td>15</td>\n      <td>4</td>\n    </tr>\n    <tr>\n      <th>226275</th>\n      <td>108</td>\n      <td>35</td>\n      <td>26</td>\n      <td>9</td>\n      <td>2023-04-16 15:04:34</td>\n      <td>light rain</td>\n      <td>290.42</td>\n      <td>73</td>\n      <td>4.12</td>\n      <td>4</td>\n      <td>6</td>\n      <td>15</td>\n      <td>4</td>\n    </tr>\n    <tr>\n      <th>226276</th>\n      <td>101</td>\n      <td>30</td>\n      <td>27</td>\n      <td>3</td>\n      <td>2023-04-16 15:04:34</td>\n      <td>light rain</td>\n      <td>290.42</td>\n      <td>73</td>\n      <td>4.12</td>\n      <td>4</td>\n      <td>6</td>\n      <td>15</td>\n      <td>4</td>\n    </tr>\n    <tr>\n      <th>226277</th>\n      <td>107</td>\n      <td>40</td>\n      <td>40</td>\n      <td>0</td>\n      <td>2023-04-16 15:04:38</td>\n      <td>light rain</td>\n      <td>290.42</td>\n      <td>73</td>\n      <td>4.12</td>\n      <td>4</td>\n      <td>6</td>\n      <td>15</td>\n      <td>4</td>\n    </tr>\n    <tr>\n      <th>...</th>\n      <td>...</td>\n      <td>...</td>\n      <td>...</td>\n      <td>...</td>\n      <td>...</td>\n      <td>...</td>\n      <td>...</td>\n      <td>...</td>\n      <td>...</td>\n      <td>...</td>\n      <td>...</td>\n      <td>...</td>\n      <td>...</td>\n    </tr>\n    <tr>\n      <th>227268</th>\n      <td>82</td>\n      <td>22</td>\n      <td>16</td>\n      <td>6</td>\n      <td>2023-04-16 16:09:39</td>\n      <td>scattered clouds</td>\n      <td>289.82</td>\n      <td>71</td>\n      <td>4.63</td>\n      <td>4</td>\n      <td>6</td>\n      <td>16</td>\n      <td>9</td>\n    </tr>\n    <tr>\n      <th>227269</th>\n      <td>26</td>\n      <td>20</td>\n      <td>12</td>\n      <td>8</td>\n      <td>2023-04-16 16:09:43</td>\n      <td>scattered clouds</td>\n      <td>289.82</td>\n      <td>71</td>\n      <td>4.63</td>\n      <td>4</td>\n      <td>6</td>\n      <td>16</td>\n      <td>9</td>\n    </tr>\n    <tr>\n      <th>227270</th>\n      <td>9</td>\n      <td>24</td>\n      <td>0</td>\n      <td>24</td>\n      <td>2023-04-16 16:09:49</td>\n      <td>scattered clouds</td>\n      <td>289.82</td>\n      <td>71</td>\n      <td>4.63</td>\n      <td>4</td>\n      <td>6</td>\n      <td>16</td>\n      <td>9</td>\n    </tr>\n    <tr>\n      <th>227271</th>\n      <td>86</td>\n      <td>38</td>\n      <td>22</td>\n      <td>16</td>\n      <td>2023-04-16 16:09:51</td>\n      <td>scattered clouds</td>\n      <td>289.82</td>\n      <td>71</td>\n      <td>4.63</td>\n      <td>4</td>\n      <td>6</td>\n      <td>16</td>\n      <td>9</td>\n    </tr>\n    <tr>\n      <th>227272</th>\n      <td>44</td>\n      <td>30</td>\n      <td>29</td>\n      <td>1</td>\n      <td>2023-04-16 16:09:52</td>\n      <td>scattered clouds</td>\n      <td>289.82</td>\n      <td>71</td>\n      <td>4.63</td>\n      <td>4</td>\n      <td>6</td>\n      <td>16</td>\n      <td>9</td>\n    </tr>\n  </tbody>\n</table>\n<p>1000 rows × 13 columns</p>\n</div>"
     },
     "execution_count": 16,
     "metadata": {},
     "output_type": "execute_result"
    }
   ],
   "source": [
    "df.tail(1000)\n"
   ],
   "metadata": {
    "collapsed": false,
    "ExecuteTime": {
     "start_time": "2023-04-16T16:12:02.007062Z",
     "end_time": "2023-04-16T16:12:02.040805Z"
    }
   }
  },
  {
   "cell_type": "code",
   "execution_count": 17,
   "outputs": [
    {
     "data": {
      "text/plain": "number                            int64\nbike_stands                       int64\navailable_bike_stands             int64\navailable_bikes                   int64\nlast_update              datetime64[ns]\nweather_description              object\nmain_temp                       float64\nmain_humidity                     int64\nwind_speed                      float64\nmonth                             int64\ndayofweek                         int64\nhour                              int64\nminute                            int64\ndtype: object"
     },
     "execution_count": 17,
     "metadata": {},
     "output_type": "execute_result"
    }
   ],
   "source": [
    "df.to_csv(\"mergedData.csv\")\n",
    "df.dtypes"
   ],
   "metadata": {
    "collapsed": false,
    "ExecuteTime": {
     "start_time": "2023-04-16T16:12:02.020861Z",
     "end_time": "2023-04-16T16:12:03.638716Z"
    }
   }
  },
  {
   "cell_type": "markdown",
   "source": [
    "# Training Data Model\n",
    "___"
   ],
   "metadata": {
    "collapsed": false
   }
  },
  {
   "cell_type": "code",
   "execution_count": 18,
   "outputs": [],
   "source": [
    "from sklearn import preprocessing\n",
    "label_encoder = preprocessing.LabelEncoder()\n"
   ],
   "metadata": {
    "collapsed": false,
    "ExecuteTime": {
     "start_time": "2023-04-16T16:12:03.641662Z",
     "end_time": "2023-04-16T16:12:03.670585Z"
    }
   }
  },
  {
   "cell_type": "code",
   "execution_count": 19,
   "outputs": [],
   "source": [
    "# Transform weather description to integers\n",
    "df['weather_description'] = label_encoder.fit_transform(df['weather_description'])"
   ],
   "metadata": {
    "collapsed": false,
    "ExecuteTime": {
     "start_time": "2023-04-16T16:12:03.656622Z",
     "end_time": "2023-04-16T16:12:03.722865Z"
    }
   }
  },
  {
   "cell_type": "code",
   "execution_count": 20,
   "outputs": [
    {
     "data": {
      "text/plain": "number                            int64\nbike_stands                       int64\navailable_bike_stands             int64\navailable_bikes                   int64\nlast_update              datetime64[ns]\nweather_description               int32\nmain_temp                       float64\nmain_humidity                     int64\nwind_speed                      float64\nmonth                             int64\ndayofweek                         int64\nhour                              int64\nminute                            int64\ndtype: object"
     },
     "execution_count": 20,
     "metadata": {},
     "output_type": "execute_result"
    }
   ],
   "source": [
    "df.dtypes\n"
   ],
   "metadata": {
    "collapsed": false,
    "ExecuteTime": {
     "start_time": "2023-04-16T16:12:03.719873Z",
     "end_time": "2023-04-16T16:12:03.731841Z"
    }
   }
  },
  {
   "cell_type": "code",
   "execution_count": 21,
   "outputs": [
    {
     "name": "stderr",
     "output_type": "stream",
     "text": [
      "C:\\Users\\Bilo\\AppData\\Local\\Temp\\ipykernel_16792\\3447826205.py:1: FutureWarning: In a future version of pandas all arguments of DataFrame.drop except for the argument 'labels' will be keyword-only.\n",
      "  df = df.drop(\"last_update\",1)\n"
     ]
    }
   ],
   "source": [
    "df = df.drop(\"last_update\",1)"
   ],
   "metadata": {
    "collapsed": false,
    "ExecuteTime": {
     "start_time": "2023-04-16T16:12:03.735830Z",
     "end_time": "2023-04-16T16:12:03.775266Z"
    }
   }
  },
  {
   "cell_type": "code",
   "execution_count": 22,
   "outputs": [],
   "source": [
    "input_features = ['number','hour','minute','month','weather_description','main_temp', 'main_humidity', 'wind_speed','dayofweek']"
   ],
   "metadata": {
    "collapsed": false,
    "ExecuteTime": {
     "start_time": "2023-04-16T16:12:03.765284Z",
     "end_time": "2023-04-16T16:12:03.797213Z"
    }
   }
  },
  {
   "cell_type": "code",
   "execution_count": 23,
   "outputs": [],
   "source": [
    "input = df[input_features]\n",
    "target = df[[\"available_bikes\",'dayofweek']]"
   ],
   "metadata": {
    "collapsed": false,
    "ExecuteTime": {
     "start_time": "2023-04-16T16:12:03.780255Z",
     "end_time": "2023-04-16T16:12:03.866414Z"
    }
   }
  },
  {
   "cell_type": "code",
   "execution_count": 24,
   "outputs": [
    {
     "name": "stdout",
     "output_type": "stream",
     "text": [
      "Test Set Predictions for Station: \n",
      "        Actual  Predicted\n",
      "6621         3   4.066667\n",
      "216695       0   2.800000\n",
      "145959      16  15.266667\n",
      "137233       4   6.066667\n",
      "162104       3   4.000000\n",
      "...        ...        ...\n",
      "216722       1   5.200000\n",
      "52295       40  40.000000\n",
      "32570       17  16.800000\n",
      "140953      14  13.666667\n",
      "128354      15  12.866667\n",
      "\n",
      "[68182 rows x 2 columns]\n",
      "\n",
      "Mean Absolute Error: 1.34552703478505\n",
      "Mean Squared Error: 5.7490744186651765\n",
      "Root Mean Squared Error: 2.397722756839326\n",
      "The accuracy score :  0.9325023076137768\n"
     ]
    }
   ],
   "source": [
    "X = input\n",
    "Y = target.available_bikes\n",
    "X_train, X_test,Y_train,Y_test = train_test_split(X, Y, test_size=0.3,random_state=0)\n",
    "regressor = RandomForestRegressor(n_estimators=15)\n",
    "regressor.fit(X_train, Y_train)\n",
    "\n",
    "# Write to a pickle file\n",
    "with open('bike_predictor.pkl', 'wb') as handle:\n",
    "    pickle.dump(regressor, handle, pickle.HIGHEST_PROTOCOL)\n",
    "\n",
    "\n",
    "y_pred = regressor.predict(X_test)\n",
    "df = pd.DataFrame({'Actual': Y_test, 'Predicted': y_pred})\n",
    "\n",
    "print('Test Set Predictions for Station: ')\n",
    "print(df)\n",
    "print()\n",
    "\n",
    "#Accuracy score\n",
    "print('Mean Absolute Error:', metrics.mean_absolute_error(Y_test, y_pred))\n",
    "print('Mean Squared Error:', metrics.mean_squared_error(Y_test, y_pred))\n",
    "print('Root Mean Squared Error:', np.sqrt(metrics.mean_squared_error(Y_test, y_pred)))\n",
    "print (\"The accuracy score : \",metrics.r2_score(Y_test, y_pred))\n"
   ],
   "metadata": {
    "collapsed": false,
    "ExecuteTime": {
     "start_time": "2023-04-16T16:12:03.831508Z",
     "end_time": "2023-04-16T16:12:14.427624Z"
    }
   }
  },
  {
   "cell_type": "markdown",
   "source": [
    "# Testing PKL file\n",
    "___"
   ],
   "metadata": {
    "collapsed": false
   }
  },
  {
   "cell_type": "code",
   "execution_count": 25,
   "outputs": [],
   "source": [
    "row = [0]*9"
   ],
   "metadata": {
    "collapsed": false,
    "ExecuteTime": {
     "start_time": "2023-04-16T16:12:14.431644Z",
     "end_time": "2023-04-16T16:12:14.473112Z"
    }
   }
  },
  {
   "cell_type": "code",
   "execution_count": 26,
   "outputs": [],
   "source": [
    "x_testing = pd.DataFrame([row],columns=input_features)\n"
   ],
   "metadata": {
    "collapsed": false,
    "ExecuteTime": {
     "start_time": "2023-04-16T16:12:14.447101Z",
     "end_time": "2023-04-16T16:12:14.490129Z"
    }
   }
  },
  {
   "cell_type": "code",
   "execution_count": 27,
   "outputs": [],
   "source": [
    "inputData = {'number':12,'hour': 10,'minute':30,'month': 4, 'weather_description': 3, 'main_temp': 279.60, 'main_humidity': 1025, 'wind_speed': 6.6, 'dayofweek': 3}"
   ],
   "metadata": {
    "collapsed": false,
    "ExecuteTime": {
     "start_time": "2023-04-16T16:12:14.462060Z",
     "end_time": "2023-04-16T16:12:14.491127Z"
    }
   }
  },
  {
   "cell_type": "code",
   "execution_count": 28,
   "outputs": [],
   "source": [
    "def dataframe(df, dict):\n",
    "    df['number'][0]=dict['number']\n",
    "    df['hour'][0] = dict['hour']\n",
    "    df['minute'][0] = dict['minute']\n",
    "    df['month'][0] = dict['month']\n",
    "    df['weather_description'][0] = dict['weather_description']\n",
    "    df['main_temp'][0] = dict['main_temp']\n",
    "    df['main_humidity'][0] = dict['main_humidity']\n",
    "    df['wind_speed'][0] = dict['wind_speed']\n",
    "    df['dayofweek'][0] = dict['dayofweek']"
   ],
   "metadata": {
    "collapsed": false,
    "ExecuteTime": {
     "start_time": "2023-04-16T16:12:14.478163Z",
     "end_time": "2023-04-16T16:12:14.491127Z"
    }
   }
  },
  {
   "cell_type": "code",
   "execution_count": 29,
   "outputs": [],
   "source": [
    "dataframe(X,inputData)"
   ],
   "metadata": {
    "collapsed": false,
    "ExecuteTime": {
     "start_time": "2023-04-16T16:12:14.494121Z",
     "end_time": "2023-04-16T16:12:14.524039Z"
    }
   }
  },
  {
   "cell_type": "code",
   "execution_count": 30,
   "outputs": [
    {
     "data": {
      "text/plain": "3.1333333333333333"
     },
     "execution_count": 30,
     "metadata": {},
     "output_type": "execute_result"
    }
   ],
   "source": [
    "with open('bike_predictor.pkl', 'rb') as handle:\n",
    "    regressor = pickle.load(handle)\n",
    "\n",
    "prediction = regressor.predict(X)\n",
    "prediction[0]\n"
   ],
   "metadata": {
    "collapsed": false,
    "ExecuteTime": {
     "start_time": "2023-04-16T16:12:14.510079Z",
     "end_time": "2023-04-16T16:12:15.386215Z"
    }
   }
  },
  {
   "cell_type": "code",
   "execution_count": 30,
   "outputs": [],
   "source": [],
   "metadata": {
    "collapsed": false,
    "ExecuteTime": {
     "start_time": "2023-04-16T16:12:15.374248Z",
     "end_time": "2023-04-16T16:12:15.391063Z"
    }
   }
  }
 ],
 "metadata": {
  "kernelspec": {
   "display_name": "Python 3",
   "language": "python",
   "name": "python3"
  },
  "language_info": {
   "codemirror_mode": {
    "name": "ipython",
    "version": 2
   },
   "file_extension": ".py",
   "mimetype": "text/x-python",
   "name": "python",
   "nbconvert_exporter": "python",
   "pygments_lexer": "ipython2",
   "version": "2.7.6"
  }
 },
 "nbformat": 4,
 "nbformat_minor": 0
}
