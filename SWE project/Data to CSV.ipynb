{
 "cells": [
  {
   "cell_type": "code",
   "execution_count": 30,
   "metadata": {
    "collapsed": true,
    "ExecuteTime": {
     "start_time": "2023-04-04T10:46:04.510593Z",
     "end_time": "2023-04-04T10:46:04.517574Z"
    }
   },
   "outputs": [],
   "source": [
    "# Import necessary dependencies\n",
    "import pandas as pd\n",
    "from sqlalchemy import create_engine\n"
   ]
  },
  {
   "cell_type": "code",
   "execution_count": 31,
   "outputs": [],
   "source": [
    "URL = \"dbbikes.cvwut6jnqsvn.us-east-1.rds.amazonaws.com\"\n",
    "PORT = \"3306\"\n",
    "DB = \"dbbikes\"\n",
    "USER = \"admin\"\n",
    "PASSWORD = \"password\""
   ],
   "metadata": {
    "collapsed": false,
    "ExecuteTime": {
     "start_time": "2023-04-04T10:46:04.519567Z",
     "end_time": "2023-04-04T10:46:04.548662Z"
    }
   }
  },
  {
   "cell_type": "code",
   "execution_count": 32,
   "outputs": [],
   "source": [
    "engine = create_engine(f\"mysql+pymysql://{USER}:{PASSWORD}@{URL}:{PORT}/{DB}\",echo = True)\n",
    "\n"
   ],
   "metadata": {
    "collapsed": false,
    "ExecuteTime": {
     "start_time": "2023-04-04T10:46:04.533530Z",
     "end_time": "2023-04-04T10:46:04.548662Z"
    }
   }
  },
  {
   "cell_type": "code",
   "execution_count": 33,
   "outputs": [
    {
     "name": "stdout",
     "output_type": "stream",
     "text": [
      "2023-04-04 10:46:05,173 INFO sqlalchemy.engine.Engine SELECT DATABASE()\n",
      "2023-04-04 10:46:05,175 INFO sqlalchemy.engine.Engine [raw sql] {}\n",
      "2023-04-04 10:46:05,354 INFO sqlalchemy.engine.Engine SELECT @@sql_mode\n",
      "2023-04-04 10:46:05,355 INFO sqlalchemy.engine.Engine [raw sql] {}\n",
      "2023-04-04 10:46:05,446 INFO sqlalchemy.engine.Engine SELECT @@lower_case_table_names\n",
      "2023-04-04 10:46:05,446 INFO sqlalchemy.engine.Engine [raw sql] {}\n",
      "2023-04-04 10:46:05,629 INFO sqlalchemy.engine.Engine SELECT * FROM dbbikes.Weather;\n",
      "2023-04-04 10:46:05,629 INFO sqlalchemy.engine.Engine [raw sql] {}\n"
     ]
    }
   ],
   "source": [
    "# create dataframe of weatherData\n",
    "query = \"SELECT * FROM dbbikes.Weather;\"\n",
    "dfWeather = pd.read_sql_query(query, engine)"
   ],
   "metadata": {
    "collapsed": false,
    "ExecuteTime": {
     "start_time": "2023-04-04T10:46:04.551656Z",
     "end_time": "2023-04-04T10:46:05.935390Z"
    }
   }
  },
  {
   "cell_type": "code",
   "execution_count": 34,
   "outputs": [
    {
     "name": "stdout",
     "output_type": "stream",
     "text": [
      "2023-04-04 10:46:05,937 INFO sqlalchemy.engine.Engine SELECT * FROM dbbikes.Bike;\n",
      "2023-04-04 10:46:05,937 INFO sqlalchemy.engine.Engine [raw sql] {}\n"
     ]
    }
   ],
   "source": [
    "query = \"SELECT * FROM dbbikes.Bike;\"\n",
    "dfBikes = pd.read_sql_query(query,engine)"
   ],
   "metadata": {
    "collapsed": false,
    "ExecuteTime": {
     "start_time": "2023-04-04T10:46:05.938381Z",
     "end_time": "2023-04-04T10:46:06.984601Z"
    }
   }
  },
  {
   "cell_type": "code",
   "execution_count": 35,
   "outputs": [],
   "source": [
    "# # export bikes and weather data to CSV files\n",
    "# dfBikes.to_csv(\"bikesData.csv\",index=False, header=True)\n",
    "# dfWeather.to_csv('weatherData.csv', index=False, header=True)"
   ],
   "metadata": {
    "collapsed": false,
    "ExecuteTime": {
     "start_time": "2023-04-04T10:46:06.987594Z",
     "end_time": "2023-04-04T10:46:07.079340Z"
    }
   }
  },
  {
   "cell_type": "code",
   "execution_count": 35,
   "outputs": [],
   "source": [
    "pd.merge_asof(dfWeather,dfBikes,on=)\n"
   ],
   "metadata": {
    "collapsed": false,
    "ExecuteTime": {
     "start_time": "2023-04-04T10:46:07.080337Z",
     "end_time": "2023-04-04T10:46:07.094719Z"
    }
   }
  }
 ],
 "metadata": {
  "kernelspec": {
   "display_name": "Python 3",
   "language": "python",
   "name": "python3"
  },
  "language_info": {
   "codemirror_mode": {
    "name": "ipython",
    "version": 2
   },
   "file_extension": ".py",
   "mimetype": "text/x-python",
   "name": "python",
   "nbconvert_exporter": "python",
   "pygments_lexer": "ipython2",
   "version": "2.7.6"
  }
 },
 "nbformat": 4,
 "nbformat_minor": 0
}
